{
 "cells": [
  {
   "cell_type": "markdown",
   "metadata": {},
   "source": [
    "# Just test github"
   ]
  },
  {
   "cell_type": "code",
   "execution_count": null,
   "metadata": {},
   "outputs": [],
   "source": [
    "def add_label(load_path, write_path):\n",
    "    files = os.listdir(load_path)\n",
    "    if int(load_path.split('/')[-1].split('e')[-1]) == 1:\n",
    "        mode = 1\n",
    "    else:\n",
    "        mode = 0\n",
    "    for file in files:\n",
    "        df = pd.read_csv(os.path.join(load_path, file))\n",
    "        df['label'] = mode\n",
    "        df.to_csv(os.path.join(write_path, file))\n",
    "load_path = '/home/workspace/output/data/train/mode2'\n",
    "write_path = '/home/workspace/output/data/mode2'         \n",
    "add_label(load_path, write_path)"
   ]
  }
 ],
 "metadata": {
  "kernelspec": {
   "display_name": "Python 3",
   "language": "python",
   "name": "python3"
  },
  "language_info": {
   "codemirror_mode": {
    "name": "ipython",
    "version": 3
   },
   "file_extension": ".py",
   "mimetype": "text/x-python",
   "name": "python",
   "nbconvert_exporter": "python",
   "pygments_lexer": "ipython3",
   "version": "3.8.5"
  }
 },
 "nbformat": 4,
 "nbformat_minor": 4
}
